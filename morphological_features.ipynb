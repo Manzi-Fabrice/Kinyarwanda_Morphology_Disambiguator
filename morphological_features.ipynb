{
 "cells": [
  {
   "cell_type": "code",
   "execution_count": 1,
   "id": "36261c67-5487-4f3c-9a98-06667bbb20b4",
   "metadata": {},
   "outputs": [
    {
     "name": "stdout",
     "output_type": "stream",
     "text": [
      "loaded 54283 word embeddings!\n"
     ]
    }
   ],
   "source": [
    "import numpy as np\n",
    "%run similarity_features.ipynb"
   ]
  },
  {
   "cell_type": "code",
   "execution_count": 6,
   "id": "513e2142-2bed-4072-adaf-159855085718",
   "metadata": {},
   "outputs": [],
   "source": [
    "def count_morphological_features(word_file: str, segmentation_file: str, roots_reference: dict)->tuple[dict,dict]:\n",
    "    # call generate segmentations function\n",
    "    proposed = {}\n",
    "    chosen = {}\n",
    "    new_word = True \n",
    "    current = \"\"\n",
    "\n",
    "    with open(segmentation_file, \"r\") as file:\n",
    "        lines = file.readlines()\n",
    "        for line in lines[1:]:\n",
    "            root = None \n",
    "            \n",
    "            if new_word:\n",
    "                current= line.strip()\n",
    "                new_word = False \n",
    "                \n",
    "            if line.strip() ==\"\":\n",
    "                new_word = True \n",
    "                continue # skip empty lines \n",
    "                \n",
    "            elif line.startswith(\"+\"):\n",
    "                morphemes = line.strip().split(\"+\")\n",
    "\n",
    "                for morpheme in morphemes:\n",
    "                    if morpheme.islower():\n",
    "                        root = morpheme\n",
    "                # asumption is that root will always be present \n",
    "                # root[morphemens] = number of times they are appearing together \n",
    "                for morpheme in morphemes:\n",
    "                    if root not in proposed:\n",
    "                        proposed[root] = {}\n",
    "                        if morpheme not in proposed[root]:\n",
    "                            proposed[root][morpheme] = 0\n",
    "                        proposed[root][morpheme] += 1 \n",
    "                         \n",
    "                                    \n",
    "                    # check if the root is in confirmed in the roots_reference \n",
    "                    if current in current_reference and root == roots_reference[current]:\n",
    "                        if root not in chosen:\n",
    "                            chosen[root] = {}\n",
    "                        if morpheme not in chosen[root]:\n",
    "                            chosen[root][morpheme] = 0\n",
    "                        chosen[root][morpheme] += 1 \n",
    "    return chosen, proposed "
   ]
  },
  {
   "cell_type": "code",
   "execution_count": 7,
   "id": "0b485493-fb6c-4888-89db-8aa2dab7666f",
   "metadata": {},
   "outputs": [],
   "source": [
    "def compute_selection_ratios(proposed:dict, chosen:dict, Minf:float, Maxf:float)->dict:\n",
    "    selection_ratios = {}\n",
    "\n",
    "    for root in proposed:\n",
    "        feature_score = []\n",
    "\n",
    "        for morpheme in proposed[root]:\n",
    "            proposed_count = proposed[root][morpheme]\n",
    "            chosen_count = chosen[root].get(morpheme, 0)\n",
    "\n",
    "            if proposed_count > 0:\n",
    "                ratio = chosen_count / proposed_count \n",
    "                normalized = sigmoid(ration, Minf, Maxf)\n",
    "                feature_score.append(normalized)\n",
    "\n",
    "            if feature_score:\n",
    "                selection_ratios[root]= {\n",
    "                    \"selection_mean\": np.mean(feature_scores),\n",
    "                    \"selection_harmonic_mean\": len(feature_scores)/ np.sum([1.0/ s for s in feature_scores if s !=0]),\n",
    "                    \"selection_geometric_mean\": np.exp(np.mean(np.log(feature_scores))) if all (s > 0 for s in feature_scores) else 0.0\n",
    "                    \n",
    "                }\n",
    "            else:\n",
    "                selection_ratios[root] = {\"selection_mean\": 0.0, \"selection_harmonic_mean\": 0.0, \"selection_geometric_mean\": 0.0}\n",
    "    return selection_ratios\n",
    "                \n",
    "    "
   ]
  }
 ],
 "metadata": {
  "kernelspec": {
   "display_name": "Python 3 (ipykernel)",
   "language": "python",
   "name": "python3"
  },
  "language_info": {
   "codemirror_mode": {
    "name": "ipython",
    "version": 3
   },
   "file_extension": ".py",
   "mimetype": "text/x-python",
   "name": "python",
   "nbconvert_exporter": "python",
   "pygments_lexer": "ipython3",
   "version": "3.10.16"
  }
 },
 "nbformat": 4,
 "nbformat_minor": 5
}
