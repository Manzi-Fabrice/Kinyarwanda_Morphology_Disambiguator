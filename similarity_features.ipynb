{
 "cells": [
  {
   "cell_type": "code",
   "execution_count": 1,
   "id": "c09f7810-0497-49f9-8353-6471fa6003cf",
   "metadata": {},
   "outputs": [],
   "source": [
    "%run transition_graph.ipynb\n",
    "import numpy as np"
   ]
  },
  {
   "cell_type": "code",
   "execution_count": 13,
   "id": "53a57038-45d3-44e3-99b8-c2773f66ce3e",
   "metadata": {},
   "outputs": [
    {
     "name": "stdout",
     "output_type": "stream",
     "text": [
      "loaded 54283 word embeddings!\n"
     ]
    }
   ],
   "source": [
    "word_embeddings = {}\n",
    "\n",
    "with open(\"W2V-Kin-50.txt\", \"r\", encoding=\"utf-8\") as f:\n",
    "    for line in f:\n",
    "        values = line.strip().split()\n",
    "        if not values:\n",
    "            continue\n",
    "\n",
    "        word = values[0]  \n",
    "\n",
    "        try:\n",
    "            vector = np.array(values[1:], dtype=np.float32)\n",
    "            word_embeddings[word] = vector\n",
    "        except ValueError:\n",
    "            continue\n",
    "\n",
    "print(f\"loaded {len(word_embeddings)} word embeddings!\")\n",
    "\n"
   ]
  },
  {
   "cell_type": "code",
   "execution_count": 14,
   "id": "ced23052-a28d-4bf0-bfb6-2816fe1acb49",
   "metadata": {},
   "outputs": [],
   "source": [
    "def find_valid_inflections(stem:str, emdeddings: dict, inflection_list:list) ->list:\n",
    "    valid_inflection = [infection for inflection in inflection_list if inflection in embeddings]\n",
    "    return valid_inflection \n"
   ]
  },
  {
   "cell_type": "code",
   "execution_count": 18,
   "id": "cac34ea6-cecb-4abf-8b29-b5c2020e5427",
   "metadata": {},
   "outputs": [],
   "source": [
    "def sigmoid(z: float, min_f: float, max_f: float) -> float:\n",
    "    if max_f - min_f == 0:\n",
    "        return 0 \n",
    "    return 1 / (1 + np.exp(-8 * ((z - min_f) / (max_f - min_f))))\n"
   ]
  },
  {
   "cell_type": "code",
   "execution_count": 22,
   "id": "4287b717-03cd-4c6e-825f-bff8e39ba663",
   "metadata": {},
   "outputs": [],
   "source": [
    "def compute_cosine_similarity(x:str, y:str, embeddings:dict, Minf:float, Maxf:float)->float:\n",
    "    if x not in embeddings or y not in embeddings:\n",
    "        return 0.0\n",
    "    x_vec, y_vec = embeddings[x], embeddings[y]\n",
    "    cosine_similarity = np.dot(x_vec, y_vec)/ (np.linalg.norm(x_vec)*np.linalg.norm(y_vec))\n",
    "    cosine_similarity = np.clip(cosine_similarity, -1.0, 1.0)\n",
    "    angular_normalized = (1) - (1/np.pi) * np.arccos(cosine_similarity)\n",
    "\n",
    "\n",
    "    normalized_similarity = sigmoid(angular_normalized, Minf, Maxf)\n",
    "\n",
    "    return normalized_similarity"
   ]
  },
  {
   "cell_type": "code",
   "execution_count": 23,
   "id": "abd2d150-7cb4-475d-b4bc-da619a5426c3",
   "metadata": {},
   "outputs": [],
   "source": [
    "def compute_eculidean_distance(x:str, y:str, token_count:dict, doc_count:dict, Minf:float, Maxf:float)->float:\n",
    "    tc_x , tc_y = token_count.get(x, 0), token_count.get(y, 0)\n",
    "    td_x , td_y = doc_count.get(x, 0), doc_count.get(y, 0)\n",
    "\n",
    "    euclidean_distance = np.sqrt((tc_x - tc_y)**2 + (td_x + td_y)**2)\n",
    "    return sigmoid(euclidean_distance, Minf, Maxf)"
   ]
  },
  {
   "cell_type": "code",
   "execution_count": 28,
   "id": "45dc8b8e-4678-4a9f-99eb-c441f3c27f3a",
   "metadata": {},
   "outputs": [],
   "source": [
    "def compute_similarity_features(x:str, stem:str, embeddigns:dict,token_count:dict, \n",
    "                                doc_count:int,Minf:float, Maxf, k:int)->dict:\n",
    "    features = {}\n",
    "    valid_inflections = list(graph.get_inflection(stem))\n",
    "    valid_inflections = [inflection for inflection in valid_inflections if inflection in embeddings]\n",
    "\n",
    "    if not valid_inflections:\n",
    "        return features \n",
    "    similarities = [compute_cosine_similarity(x, inflection, embeddings, Minf, Maxf) for inflection in valid_inflections]\n",
    "\n",
    "    top_k_similarities = sorted(similarities)[:k]\n",
    "\n",
    "    #computing mean feature\n",
    "    features[\"cosine_mean\"] = np.mean(top_k_similarities) if top_k_similarities else 0.0\n",
    "    features[\"cosine_harmonic_mean\"] = len(top_k_similarities)/ np.sum([1.0/s for s in top_k_similarities if s!=0]) if top_k_similarities else 0.0\n",
    "    features[\"cosine_geometric_mean\"] = np.exp(np.mean(np.log(top_k_similarities))) if all (s>0 for s in top_k_similarities) else 0.0\n",
    "\n",
    "    #compute eucledian distance feature\n",
    "    euclidean_score = [compute_euclidean_distance(x, inflection,token_count,doc_count,Minf, Maxf) for inflection in valid_inflections]\n",
    "    top_euclidean_score = sorted(euclidean_score)[:k]\n",
    "    features[\"euclidean_mean\"] = np.mean(top_euclidean_score) if top_euclidean_score else 0.0\n",
    "\n",
    "    # frequency based features \n",
    "    tc_x, td_x = token_count.get(x, 0), doc_count.get(x,0)\n",
    "    avg_freq = (tc_x + td_x)/2 \n",
    "    avg_freq_inflections = [((token_count.get(infl, 0)+ doc_count.get(infl,0))/2) for infl in valid_inflections]\n",
    "    features[\"freq_mean_inflections\"] = np.mean(avg_freq_inflections) if avg_freq_inflections else 0.0\n",
    "    features[\"freq_mean_x\"] = avg_freq_x\n",
    "\n",
    "    return features \n",
    "    "
   ]
  },
  {
   "cell_type": "code",
   "execution_count": null,
   "id": "217775d6-7d52-49ca-80a7-5bfe18b72956",
   "metadata": {},
   "outputs": [],
   "source": []
  }
 ],
 "metadata": {
  "kernelspec": {
   "display_name": "Python 3 (ipykernel)",
   "language": "python",
   "name": "python3"
  },
  "language_info": {
   "codemirror_mode": {
    "name": "ipython",
    "version": 3
   },
   "file_extension": ".py",
   "mimetype": "text/x-python",
   "name": "python",
   "nbconvert_exporter": "python",
   "pygments_lexer": "ipython3",
   "version": "3.10.16"
  }
 },
 "nbformat": 4,
 "nbformat_minor": 5
}
